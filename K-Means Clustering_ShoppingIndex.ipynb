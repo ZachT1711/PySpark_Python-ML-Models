{
 "cells": [
  {
   "cell_type": "markdown",
   "metadata": {},
   "source": [
    "# Python K-Means Clustering"
   ]
  },
  {
   "attachments": {},
   "cell_type": "markdown",
   "metadata": {},
   "source": [
    "This example explains k-means clustering with Python 3, pandas and scikit-learn on Jupyter Notebook.\n",
    "## Requirements\n",
    "To use this example you need Python 3 and latest versions of pandas and scikit-learn. I used Anaconda distribution to install.\n",
    "\n",
    "### Data Set:\n",
    "[[3 ,5],[3 ,4],[5 ,6],[2 ,6],[4 ,5],[6 ,8],[6 ,2],[6 ,3],[5 ,6],[6 ,7],[7 ,2],[8 ,5],[9 ,1],[8 ,2],[9 ,6],[9 ,1],[8 ,3]]\n",
    "\n",
    "\n",
    "## Algorithm\n",
    "Steps:\n",
    "1.\ttwo individuals furthest apart (using the Euclidean distance measure), define the initial cluster means\n",
    "2.\tThe remaining individuals are now examined in sequence and allocated to the cluster to which they are closest, in terms of Euclidean distance to the cluster mean. The mean vector is recalculated each time a new member is added. \n"
   ]
  },
  {
   "cell_type": "code",
   "execution_count": 1,
   "metadata": {},
   "outputs": [],
   "source": [
    "# Importing the libraries\n",
    "import numpy as np\n",
    "import matplotlib.pyplot as plt\n",
    "import pandas as pd\n",
    "%matplotlib inline"
   ]
  },
  {
   "cell_type": "code",
   "execution_count": 2,
   "metadata": {},
   "outputs": [
    {
     "data": {
      "text/plain": [
       "array([[3, 5],\n",
       "       [3, 4],\n",
       "       [5, 6],\n",
       "       [2, 6],\n",
       "       [4, 5]])"
      ]
     },
     "execution_count": 2,
     "metadata": {},
     "output_type": "execute_result"
    }
   ],
   "source": [
    "X = np.array([[3 ,5],[3 ,4],[5 ,6],[2 ,6],[4 ,5],[6 ,8],[6 ,2],[6 ,3],[5 ,6],[6 ,7],[7 ,2],[8 ,5],[9 ,1],[8 ,2],[9 ,6],[9 ,1],[8 ,3]])\n",
    "X[:5]"
   ]
  },
  {
   "cell_type": "code",
   "execution_count": 3,
   "metadata": {},
   "outputs": [
    {
     "data": {
      "text/plain": [
       "array([3, 3, 5, 2, 4, 6, 6, 6, 5, 6, 7, 8, 9, 8, 9, 9, 8])"
      ]
     },
     "execution_count": 3,
     "metadata": {},
     "output_type": "execute_result"
    }
   ],
   "source": [
    "X[:,0]# first column"
   ]
  },
  {
   "cell_type": "code",
   "execution_count": 5,
   "metadata": {},
   "outputs": [
    {
     "data": {
      "image/png": "[encoded data removed]",
      "text/plain": [
       "<Figure size 432x288 with 1 Axes>"
      ]
     },
     "metadata": {
      "needs_background": "light"
     },
     "output_type": "display_data"
    }
   ],
   "source": [
    "# Fitting K-Means to the sample dataset\n",
    "from sklearn.cluster import KMeans\n",
    "#Cluster K = 2\n",
    "kmeans = KMeans(n_clusters = 2, init = 'k-means++', random_state = 42)\n",
    "y_kmeans = kmeans.fit_predict(X)\n",
    "\n",
    "# Scatter chart of the clusters\n",
    "plt.scatter(X[:, 0], X[:, 1], c=y_kmeans, s=40, cmap='viridis');"
   ]
  },
  {
   "cell_type": "code",
   "execution_count": 6,
   "metadata": {},
   "outputs": [
    {
     "data": {
      "image/png": "[encoded data removed]",
      "text/plain": [
       "<Figure size 432x288 with 1 Axes>"
      ]
     },
     "metadata": {
      "needs_background": "light"
     },
     "output_type": "display_data"
    }
   ],
   "source": [
    "# Fitting K-Means to the sample dataset\n",
    "#Cluster K = 3\n",
    "kmeans = KMeans(n_clusters = 3, init = 'k-means++', random_state = 42)\n",
    "y_kmeans = kmeans.fit_predict(X)\n",
    "\n",
    "# Scatter chart of the clusters\n",
    "plt.scatter(X[:, 0], X[:, 1], c=y_kmeans, s=40, cmap='viridis');"
   ]
  },
  {
   "cell_type": "code",
   "execution_count": 7,
   "metadata": {},
   "outputs": [
    {
     "data": {
      "image/png": "[encoded data removed]",
      "text/plain": [
       "<Figure size 432x288 with 1 Axes>"
      ]
     },
     "metadata": {
      "needs_background": "light"
     },
     "output_type": "display_data"
    }
   ],
   "source": [
    "# Fitting K-Means to the sample dataset\n",
    "#Cluster K = 4\n",
    "kmeans = KMeans(n_clusters = 4, init = 'k-means++', random_state = 42)\n",
    "y_kmeans = kmeans.fit_predict(X)\n",
    "\n",
    "# Scatter chart of the clusters\n",
    "plt.scatter(X[:, 0], X[:, 1], c=y_kmeans, s=40, cmap='viridis');"
   ]
  },
  {
   "cell_type": "markdown",
   "metadata": {},
   "source": [
    "## Manual steps:\n",
    "[Excel for calculation](https://github.com/manojknit/PySpark_Python-ML-Models/blob/master/K-Means_Clustring_ShoppingIndex.xlsx)"
   ]
  }
 ],
 "metadata": {
  "kernelspec": {
   "display_name": "Python 3",
   "language": "python",
   "name": "python3"
  },
  "language_info": {
   "codemirror_mode": {
    "name": "ipython",
    "version": 3
   },
   "file_extension": ".py",
   "mimetype": "text/x-python",
   "name": "python",
   "nbconvert_exporter": "python",
   "pygments_lexer": "ipython3",
   "version": "3.6.6"
  }
 },
 "nbformat": 4,
 "nbformat_minor": 2
}
